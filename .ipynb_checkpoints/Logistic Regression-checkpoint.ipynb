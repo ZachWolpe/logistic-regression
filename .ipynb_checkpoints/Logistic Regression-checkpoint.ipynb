{
 "cells": [
  {
   "cell_type": "markdown",
   "metadata": {},
   "source": [
    "# Logistic Regression\n",
    "\n",
    "```\n",
    "Author:\n",
    "    Zach Wolpe\n",
    "    zachcolinwolpe@gmail.com\n",
    "    www.zachwolpe.com\n",
    "```\n",
    "\n",
    "Logistic Regression with binary response variables from scratch. Utilizing a binary response variable. Initial at $\\beta=0$ such that $Pr(y_i|x_i)=0.5$\n",
    "\n",
    "## Data\n",
    "\n",
    "$$\\mathbf{X} = AGE$$\n",
    "\n",
    "$$\\mathbf{Y} = \\text{ } \\in\\{0,1\\} \\text{ Chronic heart disease}$$\n",
    "\n",
    "## Model\n",
    "\n",
    "$$y_i = Pr(x_i, \\beta) = \\frac{e^{x_i^T \\beta}}{1 + e^{x_i^T \\beta}}$$\n",
    "\n",
    "\n",
    "\n",
    "# Iteratively Reweighted Least Squares  IRLS\n",
    "\n",
    "### Newton Raphson\n",
    "Newton Raphson algorithm is used to iteratively updated $\\beta$ until convergence. Coverge when the difference between $\\beta^n$ & $\\beta^0$ is extremely small:\n",
    "\n",
    "$$\\beta^n - \\beta^0 <0.0001$$"
   ]
  },
  {
   "cell_type": "code",
   "execution_count": 1,
   "metadata": {},
   "outputs": [],
   "source": [
    "import numpy as np\n",
    "import pandas as pd\n",
    "import matplotlib.pyplot as plt\n",
    "import statsmodels.api as sm"
   ]
  },
  {
   "cell_type": "code",
   "execution_count": 65,
   "metadata": {},
   "outputs": [
    {
     "name": "stdout",
     "output_type": "stream",
     "text": [
      "   age  chd\n",
      "0   20    0\n",
      "1   23    0\n",
      "2   24    0\n",
      "3   25    0\n",
      "4   25    1\n"
     ]
    },
    {
     "data": {
      "text/plain": [
       "100"
      ]
     },
     "execution_count": 65,
     "metadata": {},
     "output_type": "execute_result"
    },
    {
     "data": {
      "image/png": "[encoded data removed]",
      "text/plain": [
       "<Figure size 432x288 with 1 Axes>"
      ]
     },
     "metadata": {
      "needs_background": "light"
     },
     "output_type": "display_data"
    }
   ],
   "source": [
    "df = pd.read_csv('logit_data.csv')\n",
    "print(df.head())\n",
    "#plt.hist(df.age);\n",
    "df.describe()\n",
    "\n",
    "plt.scatter(df.age, df.chd);\n",
    "len(df)"
   ]
  },
  {
   "cell_type": "code",
   "execution_count": 35,
   "metadata": {},
   "outputs": [],
   "source": [
    "# x = np.concatenate(([np.ones(len(df))], [np.array(df.age)]), axis=0).T\n",
    "x = df.age\n",
    "x = np.array(sm.add_constant(x))\n",
    "y = np.array(df.chd).T\n",
    "n = len(y)"
   ]
  },
  {
   "cell_type": "code",
   "execution_count": 175,
   "metadata": {},
   "outputs": [],
   "source": [
    "# initialize Beta value: beta=0 ==> p=0.5\n",
    "bo = np.array([np.zeros(2)]).T\n",
    "\n",
    "\n",
    "lo = np.matmul(x,bo)\n",
    "o = np.exp(lo)\n",
    "p = o/(1+o)\n",
    "w = np.diagonal(p*(1-p))\n",
    "\n",
    "# Gradient matrix\n",
    "G = np.matmul(x.T,(y-p))\n",
    "\n",
    "# Hessian matrix\n",
    "H = np.matmul(x.T,(w * x))\n",
    "    \n",
    "bn = bo + np.matmul(np.linalg.inv(H),(np.matmul(x.T,(y-p))))\n",
    "\n",
    "bo = bn\n",
    "\n"
   ]
  },
  {
   "cell_type": "code",
   "execution_count": 170,
   "metadata": {},
   "outputs": [
    {
     "data": {
      "text/plain": [
       "array([ 10.49935854, 465.96153202])"
      ]
     },
     "execution_count": 170,
     "metadata": {},
     "output_type": "execute_result"
    }
   ],
   "source": [
    "\n",
    "\n",
    "np.matmul(w,x)"
   ]
  },
  {
   "cell_type": "code",
   "execution_count": 176,
   "metadata": {},
   "outputs": [
    {
     "ename": "ValueError",
     "evalue": "matmul: Input operand 1 has a mismatch in its core dimension 0, with gufunc signature (n?,k),(k,m?)->(n?,m?) (size 100 is different from 1)",
     "output_type": "error",
     "traceback": [
      "\u001b[0;31m---------------------------------------------------------------------------\u001b[0m",
      "\u001b[0;31mValueError\u001b[0m                                Traceback (most recent call last)",
      "\u001b[0;32m<ipython-input-176-9ba2e5bdc7e4>\u001b[0m in \u001b[0;36m<module>\u001b[0;34m\u001b[0m\n\u001b[0;32m----> 1\u001b[0;31m \u001b[0mx\u001b[0m\u001b[0;34m.\u001b[0m\u001b[0mshape\u001b[0m\u001b[0;34m,\u001b[0m \u001b[0mnp\u001b[0m\u001b[0;34m.\u001b[0m\u001b[0mmatmul\u001b[0m\u001b[0;34m(\u001b[0m\u001b[0mw\u001b[0m\u001b[0;34m,\u001b[0m\u001b[0mx\u001b[0m\u001b[0;34m)\u001b[0m\u001b[0;34m.\u001b[0m\u001b[0mshape\u001b[0m\u001b[0;34m,\u001b[0m \u001b[0mw\u001b[0m\u001b[0;34m.\u001b[0m\u001b[0mshape\u001b[0m\u001b[0;34m,\u001b[0m \u001b[0mx\u001b[0m\u001b[0;34m.\u001b[0m\u001b[0mshape\u001b[0m\u001b[0;34m\u001b[0m\u001b[0;34m\u001b[0m\u001b[0m\n\u001b[0m",
      "\u001b[0;31mValueError\u001b[0m: matmul: Input operand 1 has a mismatch in its core dimension 0, with gufunc signature (n?,k),(k,m?)->(n?,m?) (size 100 is different from 1)"
     ]
    }
   ],
   "source": [
    "x.shape, np.matmul(w,x).shape, w.shape, x.shape"
   ]
  },
  {
   "cell_type": "code",
   "execution_count": 178,
   "metadata": {},
   "outputs": [
    {
     "data": {
      "text/plain": [
       "array([0.25])"
      ]
     },
     "execution_count": 178,
     "metadata": {},
     "output_type": "execute_result"
    }
   ],
   "source": [
    "w"
   ]
  },
  {
   "cell_type": "code",
   "execution_count": 143,
   "metadata": {},
   "outputs": [
    {
     "data": {
      "text/plain": [
       "array([0.25])"
      ]
     },
     "execution_count": 143,
     "metadata": {},
     "output_type": "execute_result"
    }
   ],
   "source": []
  },
  {
   "cell_type": "code",
   "execution_count": null,
   "metadata": {},
   "outputs": [],
   "source": []
  },
  {
   "cell_type": "code",
   "execution_count": null,
   "metadata": {},
   "outputs": [],
   "source": []
  },
  {
   "cell_type": "code",
   "execution_count": null,
   "metadata": {},
   "outputs": [],
   "source": []
  },
  {
   "cell_type": "code",
   "execution_count": 164,
   "metadata": {},
   "outputs": [
    {
     "data": {
      "text/plain": [
       "2.0000000000000036"
      ]
     },
     "execution_count": 164,
     "metadata": {},
     "output_type": "execute_result"
    }
   ],
   "source": []
  },
  {
   "cell_type": "code",
   "execution_count": 165,
   "metadata": {},
   "outputs": [
    {
     "name": "stdout",
     "output_type": "stream",
     "text": [
      "2.0000000000000036\n"
     ]
    },
    {
     "ename": "ValueError",
     "evalue": "operands could not be broadcast together with shapes (100,) (100,2) ",
     "output_type": "error",
     "traceback": [
      "\u001b[0;31m---------------------------------------------------------------------------\u001b[0m",
      "\u001b[0;31mValueError\u001b[0m                                Traceback (most recent call last)",
      "\u001b[0;32m<ipython-input-165-bb4e2703cd94>\u001b[0m in \u001b[0;36m<module>\u001b[0;34m\u001b[0m\n\u001b[1;32m     17\u001b[0m \u001b[0;34m\u001b[0m\u001b[0m\n\u001b[1;32m     18\u001b[0m     \u001b[0;31m# Hessian matrix\u001b[0m\u001b[0;34m\u001b[0m\u001b[0;34m\u001b[0m\u001b[0;34m\u001b[0m\u001b[0m\n\u001b[0;32m---> 19\u001b[0;31m     \u001b[0mH\u001b[0m \u001b[0;34m=\u001b[0m \u001b[0mnp\u001b[0m\u001b[0;34m.\u001b[0m\u001b[0mmatmul\u001b[0m\u001b[0;34m(\u001b[0m\u001b[0mx\u001b[0m\u001b[0;34m.\u001b[0m\u001b[0mT\u001b[0m\u001b[0;34m,\u001b[0m\u001b[0;34m(\u001b[0m\u001b[0mw\u001b[0m \u001b[0;34m*\u001b[0m \u001b[0mx\u001b[0m\u001b[0;34m)\u001b[0m\u001b[0;34m)\u001b[0m\u001b[0;34m\u001b[0m\u001b[0;34m\u001b[0m\u001b[0m\n\u001b[0m\u001b[1;32m     20\u001b[0m \u001b[0;34m\u001b[0m\u001b[0m\n\u001b[1;32m     21\u001b[0m     \u001b[0mbn\u001b[0m \u001b[0;34m=\u001b[0m \u001b[0mbo\u001b[0m \u001b[0;34m+\u001b[0m \u001b[0mnp\u001b[0m\u001b[0;34m.\u001b[0m\u001b[0mmatmul\u001b[0m\u001b[0;34m(\u001b[0m\u001b[0mnp\u001b[0m\u001b[0;34m.\u001b[0m\u001b[0mlinalg\u001b[0m\u001b[0;34m.\u001b[0m\u001b[0minv\u001b[0m\u001b[0;34m(\u001b[0m\u001b[0mH\u001b[0m\u001b[0;34m)\u001b[0m\u001b[0;34m,\u001b[0m\u001b[0;34m(\u001b[0m\u001b[0mnp\u001b[0m\u001b[0;34m.\u001b[0m\u001b[0mmatmul\u001b[0m\u001b[0;34m(\u001b[0m\u001b[0mx\u001b[0m\u001b[0;34m.\u001b[0m\u001b[0mT\u001b[0m\u001b[0;34m,\u001b[0m\u001b[0;34m(\u001b[0m\u001b[0my\u001b[0m\u001b[0;34m-\u001b[0m\u001b[0mp\u001b[0m\u001b[0;34m)\u001b[0m\u001b[0;34m)\u001b[0m\u001b[0;34m)\u001b[0m\u001b[0;34m)\u001b[0m\u001b[0;34m\u001b[0m\u001b[0;34m\u001b[0m\u001b[0m\n",
      "\u001b[0;31mValueError\u001b[0m: operands could not be broadcast together with shapes (100,) (100,2) "
     ]
    }
   ],
   "source": [
    "\n",
    "# initialize Beta value: beta=0 ==> p=0.5\n",
    "bo = np.array([np.zeros(2)]).T\n",
    "\n",
    "# loop until covergence \n",
    "diff = 100\n",
    "\n",
    "diff=0\n",
    "while diff < 5:\n",
    "    lo = np.matmul(x,bo)\n",
    "    o = np.exp(lo)\n",
    "    p = o/(1+o)\n",
    "    w = np.diagonal(p*(1-p))\n",
    "\n",
    "    # Gradient matrix\n",
    "    G = np.matmul(x.T,(y-p))\n",
    "\n",
    "    # Hessian matrix\n",
    "    H = np.matmul(x.T,(w * x))\n",
    "\n",
    "    bn = bo + np.matmul(np.linalg.inv(H),(np.matmul(x.T,(y-p))))\n",
    "    print(np.max(bn-bo))\n",
    "\n",
    "    bo = bn\n",
    "    diff +=1 \n",
    "\n"
   ]
  },
  {
   "cell_type": "code",
   "execution_count": null,
   "metadata": {},
   "outputs": [],
   "source": []
  },
  {
   "cell_type": "code",
   "execution_count": 7,
   "metadata": {},
   "outputs": [
    {
     "data": {
      "text/plain": [
       "array([0., 0.])"
      ]
     },
     "execution_count": 7,
     "metadata": {},
     "output_type": "execute_result"
    }
   ],
   "source": []
  },
  {
   "cell_type": "code",
   "execution_count": 57,
   "metadata": {},
   "outputs": [
    {
     "ename": "SyntaxError",
     "evalue": "unexpected EOF while parsing (<ipython-input-57-fc55a1cf2a69>, line 11)",
     "output_type": "error",
     "traceback": [
      "\u001b[0;36m  File \u001b[0;32m\"<ipython-input-57-fc55a1cf2a69>\"\u001b[0;36m, line \u001b[0;32m11\u001b[0m\n\u001b[0;31m    \u001b[0m\n\u001b[0m    ^\u001b[0m\n\u001b[0;31mSyntaxError\u001b[0m\u001b[0;31m:\u001b[0m unexpected EOF while parsing\n"
     ]
    }
   ],
   "source": [
    "# initialize weights at Beta=0\n",
    "bho = np.zeros(2)\n",
    "\n",
    "diff = 11111\n",
    "\n",
    "while diff > 0.0001:\n",
    "    lo = x*bho\n",
    "    o = np.exp(lo)\n",
    "    p = o/(1+o)\n",
    "    w = np.diagonal()"
   ]
  },
  {
   "cell_type": "code",
   "execution_count": 122,
   "metadata": {},
   "outputs": [
    {
     "data": {
      "text/plain": [
       "(2, 1)"
      ]
     },
     "execution_count": 122,
     "metadata": {},
     "output_type": "execute_result"
    }
   ],
   "source": [
    "bo.T"
   ]
  },
  {
   "cell_type": "code",
   "execution_count": null,
   "metadata": {},
   "outputs": [],
   "source": [
    "\n",
    "# SAS IML\n",
    "\n",
    "proc iml;\n",
    "use a;\n",
    "read all into xy;\n",
    "n=nrow(xy);\n",
    "x=J(n,1,1)||xy[,1];\n",
    "y=xy[,2];\n",
    "bhi={0,0};\n",
    "bho=bhi;\n",
    "diff=11111;\n",
    "\n",
    "do i=1 to 15 while(diff>0.00001);\n",
    "    lo = x*bh0;\n",
    "    o = exp(lo);\n",
    "    p = o/(1+o);\n",
    "    w = diag(p*(1-p));\n",
    "    bhn = bho + inv(x`*w*x)*x`*(y-p);\n",
    "    print i bho bhn;\n",
    "    diff= max(abs(bhn-bho)) ;\n",
    "    bho = bhn;\n",
    "end;\n"
   ]
  }
 ],
 "metadata": {
  "kernelspec": {
   "display_name": "Python 3",
   "language": "python",
   "name": "python3"
  },
  "language_info": {
   "codemirror_mode": {
    "name": "ipython",
    "version": 3
   },
   "file_extension": ".py",
   "mimetype": "text/x-python",
   "name": "python",
   "nbconvert_exporter": "python",
   "pygments_lexer": "ipython3",
   "version": "3.7.3"
  }
 },
 "nbformat": 4,
 "nbformat_minor": 2
}
